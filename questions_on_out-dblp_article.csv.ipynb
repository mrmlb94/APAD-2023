{
 "cells": [
  {
   "cell_type": "code",
   "execution_count": 11,
   "metadata": {},
   "outputs": [],
   "source": [
    "# This code will load the dataset, \n",
    "# extract the publication years, \n",
    "# calculate the average number of publications per year, \n",
    "# and then print the result.\n",
    "\n",
    "# Please make sure to download the dataset \n",
    "# and adjust the code if needed \n",
    "# based on the dataset's specific structure \n",
    "# and your requirements."
   ]
  },
  {
   "cell_type": "markdown",
   "metadata": {},
   "source": [
    "# Question 01"
   ]
  },
  {
   "cell_type": "code",
   "execution_count": 2,
   "metadata": {},
   "outputs": [],
   "source": [
    "import networkx as nx\n",
    "import pandas as pd\n"
   ]
  },
  {
   "cell_type": "code",
   "execution_count": 3,
   "metadata": {},
   "outputs": [
    {
     "name": "stderr",
     "output_type": "stream",
     "text": [
      "/var/folders/pd/_cd9dbj914lbnxxjt6s0_7000000gn/T/ipykernel_1124/2028321522.py:3: DtypeWarning: Columns (2,4,5,6,7,8,9,10,11,14,18,19,20,21,22,23,24,25,26,30,31,33) have mixed types. Specify dtype option on import or set low_memory=False.\n",
      "  data = pd.read_csv(\"out-dblp_article.csv\", sep=\";\")\n"
     ]
    },
    {
     "name": "stdout",
     "output_type": "stream",
     "text": [
      "Average number of publications per year: 35860.12\n"
     ]
    }
   ],
   "source": [
    "data = pd.read_csv(\"out-dblp_article.csv\", sep=\";\")\n",
    "\n",
    "# Extract the publication year and authors (if needed)\n",
    "publication_years = data['year']\n",
    "\n",
    "# Calculate the average number of publications per year\n",
    "average_publications_per_year = publication_years.value_counts().mean()\n",
    "\n",
    "# Print the average number of publications per year\n",
    "print(f\"Average number of publications per year: {average_publications_per_year:.2f}\")\n"
   ]
  },
  {
   "cell_type": "markdown",
   "metadata": {},
   "source": [
    "# Question 02"
   ]
  },
  {
   "cell_type": "code",
   "execution_count": 6,
   "metadata": {},
   "outputs": [
    {
     "name": "stderr",
     "output_type": "stream",
     "text": [
      "/var/folders/pd/_cd9dbj914lbnxxjt6s0_7000000gn/T/ipykernel_1124/3979786099.py:6: DtypeWarning: Columns (2,4,5,6,7,8,9,10,11,14,18,19,20,21,22,23,24,25,26,30,31,33) have mixed types. Specify dtype option on import or set low_memory=False.\n",
      "  data = pd.read_csv(\"out-dblp_article.csv\", sep=\";\")\n"
     ]
    },
    {
     "name": "stdout",
     "output_type": "stream",
     "text": [
      "Approximate average distance within the largest connected component: 8.92\n"
     ]
    }
   ],
   "source": [
    "import pandas as pd\n",
    "import networkx as nx\n",
    "import random\n",
    "\n",
    "# Load the dataset (e.g., out-dblp_article.csv)\n",
    "data = pd.read_csv(\"out-dblp_article.csv\", sep=\";\")\n",
    "\n",
    "# Data Preprocessing\n",
    "authors = data['author'].str.split('|')\n",
    "publications = data['title']\n",
    "\n",
    "# Create a bipartite graph with authors and publications as nodes\n",
    "G = nx.Graph()\n",
    "\n",
    "# Add authors as nodes\n",
    "for author_list in authors:\n",
    "    if isinstance(author_list, list):  # Check if it's a list (not NaN)\n",
    "        for author in author_list:\n",
    "            G.add_node(author, bipartite=0)\n",
    "\n",
    "# Add publications as nodes\n",
    "for title in publications:\n",
    "    G.add_node(title, bipartite=1)\n",
    "\n",
    "# Add edges connecting authors to publications\n",
    "for i, author_list in enumerate(authors):\n",
    "    if isinstance(author_list, list):  # Check if it's a list (not NaN)\n",
    "        for author in author_list:\n",
    "            G.add_edge(author, publications[i])\n",
    "\n",
    "# Get the largest connected component\n",
    "largest_cc = max(nx.connected_components(G), key=len)\n",
    "largest_cc_graph = G.subgraph(largest_cc)\n",
    "\n",
    "# Approximate average distance calculation (sampling)\n",
    "num_samples = 1000  # Adjust the number of samples as needed\n",
    "\n",
    "sampled_distances = []\n",
    "for _ in range(num_samples):\n",
    "    nodes = list(largest_cc_graph.nodes)\n",
    "    node1, node2 = random.sample(nodes, 2)\n",
    "    sampled_distance = nx.shortest_path_length(largest_cc_graph, source=node1, target=node2)\n",
    "    sampled_distances.append(sampled_distance)\n",
    "\n",
    "# Calculate the approximate average distance\n",
    "approx_avg_distance = sum(sampled_distances) / num_samples\n",
    "\n",
    "# Print the approximate average distance\n",
    "print(f\"Approximate average distance within the largest connected component: {approx_avg_distance:.2f}\")\n"
   ]
  }
 ],
 "metadata": {
  "kernelspec": {
   "display_name": "base",
   "language": "python",
   "name": "python3"
  },
  "language_info": {
   "codemirror_mode": {
    "name": "ipython",
    "version": 3
   },
   "file_extension": ".py",
   "mimetype": "text/x-python",
   "name": "python",
   "nbconvert_exporter": "python",
   "pygments_lexer": "ipython3",
   "version": "3.12.0"
  }
 },
 "nbformat": 4,
 "nbformat_minor": 2
}
