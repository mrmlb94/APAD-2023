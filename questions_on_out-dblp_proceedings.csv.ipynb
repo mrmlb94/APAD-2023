{
 "cells": [
  {
   "cell_type": "markdown",
   "metadata": {},
   "source": [
    "# Question 1: Data Preprocessing and Building a Bipartite Graph\n"
   ]
  },
  {
   "cell_type": "code",
   "execution_count": 6,
   "metadata": {},
   "outputs": [],
   "source": [
    "import pandas as pd\n",
    "import networkx as nx"
   ]
  },
  {
   "cell_type": "code",
   "execution_count": 7,
   "metadata": {},
   "outputs": [
    {
     "name": "stderr",
     "output_type": "stream",
     "text": [
      "/var/folders/pd/_cd9dbj914lbnxxjt6s0_7000000gn/T/ipykernel_1687/2044526828.py:2: DtypeWarning: Columns (1,4,5,10,13,18,19,22,23,26) have mixed types. Specify dtype option on import or set low_memory=False.\n",
      "  data = pd.read_csv(\"out-dblp_proceedings.csv\", sep=\";\")\n"
     ]
    }
   ],
   "source": [
    "# Load the dataset (e.g., dblp_proceedings.csv)\n",
    "data = pd.read_csv(\"out-dblp_proceedings.csv\", sep=\";\")\n",
    "\n",
    "# Data Preprocessing\n",
    "authors = data['author'].str.split('|')  # Replace 'authors' with the correct column name\n",
    "publications = data['title']\n",
    "\n",
    "# Create a bipartite graph with authors and publications as nodes\n",
    "G = nx.Graph()\n",
    "\n",
    "# Add authors as nodes\n",
    "for author_list in authors:\n",
    "    if isinstance(author_list, list):  # Check if it's a list (not NaN)\n",
    "        for author in author_list:\n",
    "            G.add_node(author, bipartite=0)\n",
    "\n",
    "# Add publications as nodes\n",
    "for title in publications:\n",
    "    G.add_node(title, bipartite=1)\n",
    "\n",
    "# Add edges connecting authors to publications\n",
    "for i, author_list in enumerate(authors):\n",
    "    if isinstance(author_list, list):  # Check if it's a list (not NaN)\n",
    "        for author in author_list:\n",
    "            G.add_edge(author, publications[i])\n"
   ]
  },
  {
   "cell_type": "markdown",
   "metadata": {},
   "source": [
    "# Question 2: Calculate the Approximate Average Distance\n"
   ]
  },
  {
   "cell_type": "code",
   "execution_count": 8,
   "metadata": {},
   "outputs": [
    {
     "name": "stdout",
     "output_type": "stream",
     "text": [
      "Approximate average distance within the largest connected component: 1.77\n"
     ]
    }
   ],
   "source": [
    "import random\n",
    "\n",
    "# Get the largest connected component\n",
    "largest_cc = max(nx.connected_components(G), key=len)\n",
    "largest_cc_graph = G.subgraph(largest_cc)\n",
    "\n",
    "# Approximate average distance calculation (sampling)\n",
    "num_samples = 1000  # Adjust the number of samples as needed\n",
    "\n",
    "sampled_distances = []\n",
    "for _ in range(num_samples):\n",
    "    nodes = list(largest_cc_graph.nodes)\n",
    "    node1, node2 = random.sample(nodes, 2)\n",
    "    sampled_distance = nx.shortest_path_length(largest_cc_graph, source=node1, target=node2)\n",
    "    sampled_distances.append(sampled_distance)\n",
    "\n",
    "# Calculate the approximate average distance\n",
    "approx_avg_distance = sum(sampled_distances) / num_samples\n",
    "\n",
    "# Print the approximate average distance\n",
    "print(f\"Approximate average distance within the largest connected component: {approx_avg_distance:.2f}\")\n"
   ]
  },
  {
   "cell_type": "markdown",
   "metadata": {},
   "source": [
    "# Question 3: Identify Collaborations\n"
   ]
  },
  {
   "cell_type": "code",
   "execution_count": 9,
   "metadata": {},
   "outputs": [
    {
     "name": "stdout",
     "output_type": "stream",
     "text": [
      "The most collaborative author is A. Keith Dunker with 1 collaborations.\n"
     ]
    }
   ],
   "source": [
    "# Identify collaborations\n",
    "collaboration_counts = {}\n",
    "for author in authors:\n",
    "    if isinstance(author, list):\n",
    "        for a1 in author:\n",
    "            for a2 in author:\n",
    "                if a1 != a2:\n",
    "                    collaboration_counts[(a1, a2)] = collaboration_counts.get((a1, a2), 0) + 1\n",
    "\n",
    "# Identify the author with the largest number of collaborations\n",
    "most_collaborative_author = max(collaboration_counts, key=collaboration_counts.get)\n",
    "max_collaborations = collaboration_counts[most_collaborative_author]\n",
    "\n",
    "# Print the most collaborative author and their collaborations\n",
    "print(f\"The most collaborative author is {most_collaborative_author[0]} with {max_collaborations} collaborations.\")\n"
   ]
  }
 ],
 "metadata": {
  "kernelspec": {
   "display_name": "base",
   "language": "python",
   "name": "python3"
  },
  "language_info": {
   "codemirror_mode": {
    "name": "ipython",
    "version": 3
   },
   "file_extension": ".py",
   "mimetype": "text/x-python",
   "name": "python",
   "nbconvert_exporter": "python",
   "pygments_lexer": "ipython3",
   "version": "3.12.0"
  }
 },
 "nbformat": 4,
 "nbformat_minor": 2
}
